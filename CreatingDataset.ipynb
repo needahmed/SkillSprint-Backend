{
  "nbformat": 4,
  "nbformat_minor": 0,
  "metadata": {
    "colab": {
      "provenance": [],
      "authorship_tag": "ABX9TyPFKMvzx+X1QQ5ZnvuBxD5a",
      "include_colab_link": true
    },
    "kernelspec": {
      "name": "python3",
      "display_name": "Python 3"
    },
    "language_info": {
      "name": "python"
    }
  },
  "cells": [
    {
      "cell_type": "markdown",
      "metadata": {
        "id": "view-in-github",
        "colab_type": "text"
      },
      "source": [
        "<a href=\"https://colab.research.google.com/github/needahmed/SkillSprint-Backend/blob/main/CreatingDataset.ipynb\" target=\"_parent\"><img src=\"https://colab.research.google.com/assets/colab-badge.svg\" alt=\"Open In Colab\"/></a>"
      ]
    },
    {
      "cell_type": "code",
      "execution_count": null,
      "metadata": {
        "colab": {
          "base_uri": "https://localhost:8080/"
        },
        "id": "2tx3gLYeCC5w",
        "outputId": "5b657478-251f-4d67-da3e-1949434f2105"
      },
      "outputs": [
        {
          "output_type": "stream",
          "name": "stdout",
          "text": [
            "Dataset generated and saved to Career_Path_Dataset.csv\n"
          ]
        }
      ],
      "source": [
        "import numpy as np\n",
        "import pandas as pd\n",
        "\n",
        "# Define number of entries per profile\n",
        "num_entries_per_profile = 50\n",
        "# Set random seed for reproducibility\n",
        "np.random.seed(42)\n",
        "\n",
        "# Profiles for each career field\n",
        "profiles = {\n",
        "    \"Software Development\": [5, 4, 3, 4, 5, 3, 2, 2, 3, 5, 4, 3, 2, 2, 3],\n",
        "    \"Web Development\": [3, 5, 4, 4, 2, 3, 3, 5, 2, 4, 5, 4, 2, 2, 3],\n",
        "    \"Mobile App Development\": [3, 4, 5, 3, 2, 5, 3, 4, 5, 4, 3, 5, 2, 2, 4],\n",
        "    \"Data Science\": [2, 3, 4, 5, 5, 2, 5, 3, 2, 4, 5, 4, 5, 4, 5],\n",
        "    \"Cybersecurity\": [5, 3, 3, 4, 2, 5, 5, 5, 4, 2, 2, 3, 5, 5, 4],\n",
        "    \"Cloud Computing\": [3, 2, 5, 3, 5, 4, 5, 4, 3, 5, 3, 2, 5, 4, 5],\n",
        "    \"Blockchain\": [2, 5, 3, 5, 3, 5, 4, 5, 4, 3, 5, 2, 3, 4, 5],\n",
        "    \"DevOps\": [4, 2, 3, 4, 5, 4, 5, 3, 5, 5, 3, 4, 5, 4, 3],\n",
        "    \"Artificial Intelligence\": [4, 4, 5, 2, 5, 3, 4, 5, 4, 5, 5, 5, 3, 2, 5],\n",
        "    \"Network and Systems Administration\": [5, 4, 2, 3, 2, 4, 3, 2, 5, 4, 3, 5, 5, 5, 3]\n",
        "}\n",
        "\n",
        "# Initialize an empty list to hold all the data frames\n",
        "data_frames = []\n",
        "\n",
        "# Populate the list with data frames for each profile\n",
        "for career, responses in profiles.items():\n",
        "    for _ in range(num_entries_per_profile):\n",
        "        noisy_responses = [np.clip(x + np.random.randint(-1, 2), 1, 5) for x in responses]\n",
        "        df = pd.DataFrame([noisy_responses + [career]], columns=[f'Q{i}' for i in range(1, 16)] + ['Career_Path'])\n",
        "        data_frames.append(df)\n",
        "\n",
        "# Concatenate all data frames into one\n",
        "final_df = pd.concat(data_frames, ignore_index=True)\n",
        "\n",
        "# Shuffle the DataFrame to randomize entries\n",
        "final_df = final_df.sample(frac=1).reset_index(drop=True)\n",
        "\n",
        "# Save to CSV\n",
        "csv_file_path = 'Career_Path_Dataset.csv'\n",
        "final_df.to_csv(csv_file_path, index=False)\n",
        "\n",
        "print(f\"Dataset generated and saved to {csv_file_path}\")\n"
      ]
    },
    {
      "cell_type": "code",
      "source": [
        "import pandas as pd\n",
        "from sklearn.model_selection import train_test_split\n",
        "from sklearn.ensemble import RandomForestClassifier\n",
        "from sklearn.metrics import accuracy_score, classification_report\n",
        "\n",
        "# Load the dataset\n",
        "df = pd.read_csv('Career_Path_Dataset.csv')\n",
        "\n",
        "# Prepare data\n",
        "X = df.drop('Career_Path', axis=1)  # Features\n",
        "y = df['Career_Path']               # Target variable\n",
        "\n",
        "# Split the dataset into training and testing sets\n",
        "X_train, X_test, y_train, y_test = train_test_split(X, y, test_size=0.2, random_state=42)\n",
        "\n",
        "# Initialize the Random Forest Classifier\n",
        "rf = RandomForestClassifier(n_estimators=100, random_state=42)\n",
        "\n",
        "# Train the model\n",
        "rf.fit(X_train, y_train)\n",
        "\n",
        "# Predict on the testing set\n",
        "y_pred = rf.predict(X_test)\n",
        "\n",
        "# Evaluate the model\n",
        "print(\"Accuracy:\", accuracy_score(y_test, y_pred))\n",
        "print(\"\\nClassification Report:\\n\", classification_report(y_test, y_pred))\n"
      ],
      "metadata": {
        "colab": {
          "base_uri": "https://localhost:8080/"
        },
        "id": "TP5e0FofE9i8",
        "outputId": "7cae29ff-0904-4317-f81b-358e2c0f90d4"
      },
      "execution_count": null,
      "outputs": [
        {
          "output_type": "stream",
          "name": "stdout",
          "text": [
            "Accuracy: 1.0\n",
            "\n",
            "Classification Report:\n",
            "                                     precision    recall  f1-score   support\n",
            "\n",
            "           Artificial Intelligence       1.00      1.00      1.00         9\n",
            "                        Blockchain       1.00      1.00      1.00        11\n",
            "                   Cloud Computing       1.00      1.00      1.00        12\n",
            "                     Cybersecurity       1.00      1.00      1.00        11\n",
            "                      Data Science       1.00      1.00      1.00        12\n",
            "                            DevOps       1.00      1.00      1.00         5\n",
            "            Mobile App Development       1.00      1.00      1.00        14\n",
            "Network and Systems Administration       1.00      1.00      1.00        10\n",
            "              Software Development       1.00      1.00      1.00         9\n",
            "                   Web Development       1.00      1.00      1.00         7\n",
            "\n",
            "                          accuracy                           1.00       100\n",
            "                         macro avg       1.00      1.00      1.00       100\n",
            "                      weighted avg       1.00      1.00      1.00       100\n",
            "\n"
          ]
        }
      ]
    },
    {
      "cell_type": "code",
      "source": [
        "\n",
        "from sklearn.ensemble import RandomForestClassifier\n",
        "import joblib\n",
        "\n",
        "# Example: Assume you have trained a model called 'rf'\n",
        "rf = RandomForestClassifier(n_estimators=100, random_state=42)\n",
        "rf.fit(X_train, y_train)  # X_train and y_train are your training data\n",
        "\n",
        "# Save the model to disk\n",
        "joblib.dump(rf, 'career_path_classifier.joblib')\n",
        "\n",
        "print(\"Model saved successfully!\")"
      ],
      "metadata": {
        "colab": {
          "base_uri": "https://localhost:8080/"
        },
        "id": "UyLxkxj3HZr9",
        "outputId": "8c71996b-c7e9-4907-b954-fb9faaabe839"
      },
      "execution_count": null,
      "outputs": [
        {
          "output_type": "stream",
          "name": "stdout",
          "text": [
            "Model saved successfully!\n"
          ]
        }
      ]
    }
  ]
}